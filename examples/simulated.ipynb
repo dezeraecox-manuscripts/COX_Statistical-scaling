{
 "cells": [
  {
   "cell_type": "markdown",
   "metadata": {},
   "source": [
    "# Welcome to the PERCEPT demo!\n",
    "\n",
    "Here you will find a very simple run-through of the application of PERCEPT to a simulated dataset. In this case, we will (1) generate two random datasets with different levels of variability, (2) define a function that will perform the PERCEPT scaling on these datasets, and (3) visualise the effect of this scaling. \n",
    "\n",
    "⚠ If you are not familiar with the python programming language, or would prefer to see this process in action in a spreadsheet, check out the ```'simulated-template.xlsx'``` document. "
   ]
  },
  {
   "cell_type": "markdown",
   "metadata": {},
   "source": [
    "Okay - let's start by importing some libraries and functions that we will need to perform or visualise PERCEPT:"
   ]
  },
  {
   "cell_type": "code",
   "execution_count": 1,
   "metadata": {},
   "outputs": [
    {
     "name": "stderr",
     "output_type": "stream",
     "text": [
      "2024-02-20 23:12:14.632 | INFO     | __main__:<cell line: 9>:9 - Import OK\n"
     ]
    }
   ],
   "source": [
    "import pandas as pd\n",
    "import numpy as np\n",
    "from scipy.stats import ttest_1samp\n",
    "import matplotlib.pyplot as plt\n",
    "from loguru import logger\n",
    "import seaborn as sns\n",
    "import matplotlib.patches as mpatches\n",
    "\n",
    "logger.info('Import OK')"
   ]
  },
  {
   "cell_type": "markdown",
   "metadata": {},
   "source": [
    "For reproducibility, we will also set the 'seed'. This ensures that, while the numbers drawn will be randomly from the normal distribution, the same numbers will be collected here each time the code is run for the purposes of demonstration:\n",
    "\n",
    "ℹ You can always change the seed value and see the result of PERCEPT on a different set of random numbers!"
   ]
  },
  {
   "cell_type": "code",
   "execution_count": 2,
   "metadata": {},
   "outputs": [],
   "source": [
    "# optional: for reproducible numbers, set numpy seed\n",
    "np.random.seed(567)"
   ]
  },
  {
   "cell_type": "markdown",
   "metadata": {},
   "source": [
    "Ok, now it's time to generate the datasets that we will explore. Both datasets will consist of a random set of numbers, with ```data_1``` having a smaller range from which the numbers are drawn compared to ```data_2```. This means that ```data_1``` will be consistent while ```data_2``` have a large spread i.e. be noisy.\n",
    "\n",
    "We can visualise these two datasets easily by putting them in a table:"
   ]
  },
  {
   "cell_type": "code",
   "execution_count": 3,
   "metadata": {},
   "outputs": [
    {
     "data": {
      "text/html": [
       "<div>\n",
       "<style scoped>\n",
       "    .dataframe tbody tr th:only-of-type {\n",
       "        vertical-align: middle;\n",
       "    }\n",
       "\n",
       "    .dataframe tbody tr th {\n",
       "        vertical-align: top;\n",
       "    }\n",
       "\n",
       "    .dataframe thead th {\n",
       "        text-align: right;\n",
       "    }\n",
       "</style>\n",
       "<table border=\"1\" class=\"dataframe\">\n",
       "  <thead>\n",
       "    <tr style=\"text-align: right;\">\n",
       "      <th></th>\n",
       "      <th>1</th>\n",
       "      <th>2</th>\n",
       "      <th>3</th>\n",
       "      <th>4</th>\n",
       "      <th>5</th>\n",
       "    </tr>\n",
       "  </thead>\n",
       "  <tbody>\n",
       "    <tr>\n",
       "      <th>data_1</th>\n",
       "      <td>233.30</td>\n",
       "      <td>274.95</td>\n",
       "      <td>272.96</td>\n",
       "      <td>226.34</td>\n",
       "      <td>317.99</td>\n",
       "    </tr>\n",
       "    <tr>\n",
       "      <th>data_2</th>\n",
       "      <td>189.47</td>\n",
       "      <td>518.57</td>\n",
       "      <td>986.77</td>\n",
       "      <td>849.66</td>\n",
       "      <td>886.19</td>\n",
       "    </tr>\n",
       "  </tbody>\n",
       "</table>\n",
       "</div>"
      ],
      "text/plain": [
       "             1       2       3       4       5\n",
       "data_1  233.30  274.95  272.96  226.34  317.99\n",
       "data_2  189.47  518.57  986.77  849.66  886.19"
      ]
     },
     "execution_count": 3,
     "metadata": {},
     "output_type": "execute_result"
    }
   ],
   "source": [
    "# Generate two datasets with different variability\n",
    "data_1 = [(val + np.random.randint(200, 400)).round(2) for val in np.random.rand(1, 5)[0]]\n",
    "data_2 = [(val + np.random.randint(100, 1000)).round(2) for val in np.random.rand(1, 5)[0]]\n",
    "dataset = pd.DataFrame([data_1, data_2], index=['data_1', 'data_2'])\n",
    "dataset.columns = np.arange(1, 6) # Set column names to replicate number\n",
    "dataset"
   ]
  },
  {
   "cell_type": "markdown",
   "metadata": {},
   "source": [
    "Great! Now we have some data to play with, let's dive into the nitty-gritty. First, we need to define a function that will apply the PERCEPT scaling method to a mean value based on the hypothetical mean (```m0```), the value itselt (```m1```), the penalty factor (```F```) and the p-value (```*p*```)."
   ]
  },
  {
   "cell_type": "code",
   "execution_count": 4,
   "metadata": {},
   "outputs": [],
   "source": [
    "# PERCEPT as defined in Eq. 1\n",
    "def percept(m0, m1, F, p):\n",
    "    return m0 + ((m0 - m1) / -(F**p))"
   ]
  },
  {
   "cell_type": "markdown",
   "metadata": {},
   "source": [
    "We will also define a helper function that will allow us to apply this to our datasets without having to first calculate the parameters (i.e. without having to pre-compute the mean and *p*-value). This helper function uses a one-sample t-test to assess the difference between the dataset of interest and the hypothetical mean, returning a *p*-value that is used for PERCEPT scaling. "
   ]
  },
  {
   "cell_type": "code",
   "execution_count": 5,
   "metadata": {},
   "outputs": [],
   "source": [
    "# define a simple function to apply the PERCEPT scaling\n",
    "def apply_percept(data, hypothethical_mean, penalty):\n",
    "    \n",
    "    # 1. Calculate p-value    \n",
    "    tval, pval = ttest_1samp(\n",
    "        data,\n",
    "        popmean=hypothethical_mean,\n",
    "        nan_policy='omit'\n",
    "    )\n",
    "\n",
    "    # 2. Calculate sample mean\n",
    "    sample_mean = np.mean(data)\n",
    "    \n",
    "    # 3. Apply percept, returning scaled mean value\n",
    "    return percept(\n",
    "                m0=hypothethical_mean,\n",
    "                m1=sample_mean,\n",
    "                F=penalty,\n",
    "                p=pval\n",
    "                )"
   ]
  },
  {
   "cell_type": "markdown",
   "metadata": {},
   "source": [
    "Now that we have our PERCEPT function and helper function, we can apply the PERCEPT scaling method to each of our datasets. Here it is being applied to ```data_1```, using a penalty factor of 10 × *n*:"
   ]
  },
  {
   "cell_type": "code",
   "execution_count": 6,
   "metadata": {},
   "outputs": [
    {
     "data": {
      "text/plain": [
       "265.23906359046157"
      ]
     },
     "execution_count": 6,
     "metadata": {},
     "output_type": "execute_result"
    }
   ],
   "source": [
    "# Apply PERCEPT to the data\n",
    "data_1_scaled_mean = apply_percept(\n",
    "    data=data_1,\n",
    "    hypothethical_mean=500,\n",
    "    penalty=50\n",
    "    )\n",
    "data_1_scaled_mean"
   ]
  },
  {
   "cell_type": "markdown",
   "metadata": {},
   "source": [
    "And again for ```data_2```:"
   ]
  },
  {
   "cell_type": "code",
   "execution_count": 7,
   "metadata": {},
   "outputs": [
    {
     "data": {
      "text/plain": [
       "563.7177209873093"
      ]
     },
     "execution_count": 7,
     "metadata": {},
     "output_type": "execute_result"
    }
   ],
   "source": [
    "data_2_scaled_mean = apply_percept(\n",
    "    data=data_2,\n",
    "    hypothethical_mean=500,\n",
    "    penalty=50\n",
    "    )\n",
    "data_2_scaled_mean"
   ]
  },
  {
   "cell_type": "markdown",
   "metadata": {},
   "source": [
    "Now let's add both the original mean value (\"raw\"; i.e. before scaling) and the PERCEPT value (\"scaled\") to the original dataset table for easy visualisation."
   ]
  },
  {
   "cell_type": "code",
   "execution_count": 8,
   "metadata": {},
   "outputs": [
    {
     "data": {
      "text/html": [
       "<div>\n",
       "<style scoped>\n",
       "    .dataframe tbody tr th:only-of-type {\n",
       "        vertical-align: middle;\n",
       "    }\n",
       "\n",
       "    .dataframe tbody tr th {\n",
       "        vertical-align: top;\n",
       "    }\n",
       "\n",
       "    .dataframe thead th {\n",
       "        text-align: right;\n",
       "    }\n",
       "</style>\n",
       "<table border=\"1\" class=\"dataframe\">\n",
       "  <thead>\n",
       "    <tr style=\"text-align: right;\">\n",
       "      <th></th>\n",
       "      <th>1</th>\n",
       "      <th>2</th>\n",
       "      <th>3</th>\n",
       "      <th>4</th>\n",
       "      <th>5</th>\n",
       "      <th>raw_mean</th>\n",
       "      <th>scaled_mean</th>\n",
       "    </tr>\n",
       "  </thead>\n",
       "  <tbody>\n",
       "    <tr>\n",
       "      <th>data_1</th>\n",
       "      <td>233.30</td>\n",
       "      <td>274.95</td>\n",
       "      <td>272.96</td>\n",
       "      <td>226.34</td>\n",
       "      <td>317.99</td>\n",
       "      <td>265.108</td>\n",
       "      <td>265.239064</td>\n",
       "    </tr>\n",
       "    <tr>\n",
       "      <th>data_2</th>\n",
       "      <td>189.47</td>\n",
       "      <td>518.57</td>\n",
       "      <td>986.77</td>\n",
       "      <td>849.66</td>\n",
       "      <td>886.19</td>\n",
       "      <td>686.132</td>\n",
       "      <td>563.717721</td>\n",
       "    </tr>\n",
       "  </tbody>\n",
       "</table>\n",
       "</div>"
      ],
      "text/plain": [
       "             1       2       3       4       5  raw_mean  scaled_mean\n",
       "data_1  233.30  274.95  272.96  226.34  317.99   265.108   265.239064\n",
       "data_2  189.47  518.57  986.77  849.66  886.19   686.132   563.717721"
      ]
     },
     "execution_count": 8,
     "metadata": {},
     "output_type": "execute_result"
    }
   ],
   "source": [
    "# Summarise data by adding to original dataframe\n",
    "dataset['raw_mean'] = dataset.mean(axis=1).values\n",
    "dataset['scaled_mean'] = [data_1_scaled_mean, data_2_scaled_mean]\n",
    "dataset"
   ]
  },
  {
   "cell_type": "markdown",
   "metadata": {},
   "source": [
    "We can see that the raw mean value for the consistent ```data_1``` has not been scaled very much at all - we would expect this from a consistent dataset that is far from the hypothetical mean of 500, and would thus produce a small (i.e. significant) *p*-value. In contrast, the scaled value for ```data_2``` has been dragged much closer to the hypothetical mean owing to the variability of the dataset, which would in turn produce a larger (i.e. less significant) *p*-value."
   ]
  },
  {
   "cell_type": "markdown",
   "metadata": {},
   "source": [
    "Finally, to really understand what is happening to each dataset nothing beats a good visual! Here, we will adjust the data format into a long-form table for easy visualisation:"
   ]
  },
  {
   "cell_type": "code",
   "execution_count": 10,
   "metadata": {},
   "outputs": [
    {
     "data": {
      "text/html": [
       "<div>\n",
       "<style scoped>\n",
       "    .dataframe tbody tr th:only-of-type {\n",
       "        vertical-align: middle;\n",
       "    }\n",
       "\n",
       "    .dataframe tbody tr th {\n",
       "        vertical-align: top;\n",
       "    }\n",
       "\n",
       "    .dataframe thead th {\n",
       "        text-align: right;\n",
       "    }\n",
       "</style>\n",
       "<table border=\"1\" class=\"dataframe\">\n",
       "  <thead>\n",
       "    <tr style=\"text-align: right;\">\n",
       "      <th></th>\n",
       "      <th>dataset</th>\n",
       "      <th>replicate</th>\n",
       "      <th>value</th>\n",
       "    </tr>\n",
       "  </thead>\n",
       "  <tbody>\n",
       "    <tr>\n",
       "      <th>0</th>\n",
       "      <td>data_1</td>\n",
       "      <td>1</td>\n",
       "      <td>233.30</td>\n",
       "    </tr>\n",
       "    <tr>\n",
       "      <th>1</th>\n",
       "      <td>data_2</td>\n",
       "      <td>1</td>\n",
       "      <td>189.47</td>\n",
       "    </tr>\n",
       "    <tr>\n",
       "      <th>2</th>\n",
       "      <td>data_1</td>\n",
       "      <td>2</td>\n",
       "      <td>274.95</td>\n",
       "    </tr>\n",
       "    <tr>\n",
       "      <th>3</th>\n",
       "      <td>data_2</td>\n",
       "      <td>2</td>\n",
       "      <td>518.57</td>\n",
       "    </tr>\n",
       "    <tr>\n",
       "      <th>4</th>\n",
       "      <td>data_1</td>\n",
       "      <td>3</td>\n",
       "      <td>272.96</td>\n",
       "    </tr>\n",
       "    <tr>\n",
       "      <th>5</th>\n",
       "      <td>data_2</td>\n",
       "      <td>3</td>\n",
       "      <td>986.77</td>\n",
       "    </tr>\n",
       "    <tr>\n",
       "      <th>6</th>\n",
       "      <td>data_1</td>\n",
       "      <td>4</td>\n",
       "      <td>226.34</td>\n",
       "    </tr>\n",
       "    <tr>\n",
       "      <th>7</th>\n",
       "      <td>data_2</td>\n",
       "      <td>4</td>\n",
       "      <td>849.66</td>\n",
       "    </tr>\n",
       "    <tr>\n",
       "      <th>8</th>\n",
       "      <td>data_1</td>\n",
       "      <td>5</td>\n",
       "      <td>317.99</td>\n",
       "    </tr>\n",
       "    <tr>\n",
       "      <th>9</th>\n",
       "      <td>data_2</td>\n",
       "      <td>5</td>\n",
       "      <td>886.19</td>\n",
       "    </tr>\n",
       "  </tbody>\n",
       "</table>\n",
       "</div>"
      ],
      "text/plain": [
       "  dataset replicate   value\n",
       "0  data_1         1  233.30\n",
       "1  data_2         1  189.47\n",
       "2  data_1         2  274.95\n",
       "3  data_2         2  518.57\n",
       "4  data_1         3  272.96\n",
       "5  data_2         3  986.77\n",
       "6  data_1         4  226.34\n",
       "7  data_2         4  849.66\n",
       "8  data_1         5  317.99\n",
       "9  data_2         5  886.19"
      ]
     },
     "execution_count": 10,
     "metadata": {},
     "output_type": "execute_result"
    }
   ],
   "source": [
    "# Prepare data for visualisation\n",
    "summary = pd.melt(\n",
    "    dataset.reset_index().rename(columns={'index': 'dataset'}),\n",
    "    id_vars=['dataset'], # Keep the dataset labels\n",
    "    value_vars=np.arange(1, 6), # Collect the raw data columns\n",
    "    var_name='replicate' # Label the new column created \n",
    "    )\n",
    "summary"
   ]
  },
  {
   "cell_type": "markdown",
   "metadata": {},
   "source": [
    "And finally generate a plot which contains the original datapoints (black circles), the hypothetical mean (purple line), the raw mean value (yellow line) and the PERCEPT scaled values (magenta dashed lines):"
   ]
  },
  {
   "cell_type": "code",
   "execution_count": 11,
   "metadata": {},
   "outputs": [
    {
     "data": {
      "text/plain": [
       "<matplotlib.legend.Legend at 0x2a9a9d1d540>"
      ]
     },
     "execution_count": 11,
     "metadata": {},
     "output_type": "execute_result"
    },
    {
     "data": {
      "image/png": "[encoded data removed]",
      "text/plain": [
       "<Figure size 360x360 with 1 Axes>"
      ]
     },
     "metadata": {
      "needs_background": "light"
     },
     "output_type": "display_data"
    }
   ],
   "source": [
    "# Visualise the data before and after scaling\n",
    "fig, ax = plt.subplots(figsize=(5,5))\n",
    "sns.stripplot(\n",
    "    data=summary,\n",
    "    x='dataset',\n",
    "    y='value',\n",
    "    color='black',\n",
    "    dodge=False,\n",
    "    ax=ax,\n",
    "    s=15,\n",
    "    label='Raw points'\n",
    ")\n",
    "sns.boxplot(\n",
    "    data=summary.groupby('dataset').mean().reset_index(),\n",
    "    x='dataset',\n",
    "    y='value',\n",
    "    ax=ax,\n",
    "    medianprops=dict(color='#E3B504', linewidth=4),\n",
    ")\n",
    "  \n",
    "sns.boxplot(\n",
    "    data=dataset.reset_index(),\n",
    "    x='index',\n",
    "    y='scaled_mean',\n",
    "    ax=ax,\n",
    "    medianprops=dict(color='#B0185E', linewidth=4, linestyle='--'),\n",
    ")\n",
    "\n",
    "# Add line at hypothetical mean\n",
    "ax.axhline(500, color='#420264', linestyle='--', linewidth=2)\n",
    "ax.annotate('Hypothetical mean: 500', xy=(0.005, 0.467), xycoords=\"axes fraction\", ha='left', va='top', color='#420264')\n",
    "# Set axes labels\n",
    "ax.set(ylabel='Value', xlabel='Dataset', xticklabels=['Consistent', 'Variable'])\n",
    "\n",
    "# Customise legend\n",
    "handles, labels = plt.gca().get_legend_handles_labels()\n",
    "raw_patch = mpatches.Patch(color='#E3B504', label='Raw mean')\n",
    "scaled_patch = mpatches.Patch(color='#B0185E', label='Scaled mean')\n",
    "plt.legend(handles=[handles[0], raw_patch, scaled_patch], labels=['Raw points', 'Raw', 'Scaled'], loc='upper left')"
   ]
  },
  {
   "cell_type": "markdown",
   "metadata": {},
   "source": [
    "Hopefully this has helped to demonstrate how we can easily apply PERCEPT in just a few lines of code. Ready to try it out for yourself? Simply substitute your data into the datasets defined above and give it a go!"
   ]
  }
 ],
 "metadata": {
  "kernelspec": {
   "display_name": "smma_env",
   "language": "python",
   "name": "python3"
  },
  "language_info": {
   "codemirror_mode": {
    "name": "ipython",
    "version": 3
   },
   "file_extension": ".py",
   "mimetype": "text/x-python",
   "name": "python",
   "nbconvert_exporter": "python",
   "pygments_lexer": "ipython3",
   "version": "3.10.5"
  }
 },
 "nbformat": 4,
 "nbformat_minor": 2
}
